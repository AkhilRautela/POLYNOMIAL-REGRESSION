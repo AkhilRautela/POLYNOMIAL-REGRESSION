{
 "cells": [
  {
   "cell_type": "code",
   "execution_count": 1,
   "metadata": {},
   "outputs": [],
   "source": [
    "import numpy as np\n",
    "import matplotlib.pyplot as plt\n",
    "from sklearn.preprocessing import PolynomialFeatures\n",
    "from sklearn.linear_model import LinearRegression\n"
   ]
  },
  {
   "cell_type": "code",
   "execution_count": 2,
   "metadata": {},
   "outputs": [
    {
     "data": {
      "text/plain": [
       "array([[10.        ],\n",
       "       [10.6122449 ],\n",
       "       [11.2244898 ],\n",
       "       [11.83673469],\n",
       "       [12.44897959],\n",
       "       [13.06122449],\n",
       "       [13.67346939],\n",
       "       [14.28571429],\n",
       "       [14.89795918],\n",
       "       [15.51020408],\n",
       "       [16.12244898],\n",
       "       [16.73469388],\n",
       "       [17.34693878],\n",
       "       [17.95918367],\n",
       "       [18.57142857],\n",
       "       [19.18367347],\n",
       "       [19.79591837],\n",
       "       [20.40816327],\n",
       "       [21.02040816],\n",
       "       [21.63265306],\n",
       "       [22.24489796],\n",
       "       [22.85714286],\n",
       "       [23.46938776],\n",
       "       [24.08163265],\n",
       "       [24.69387755],\n",
       "       [25.30612245],\n",
       "       [25.91836735],\n",
       "       [26.53061224],\n",
       "       [27.14285714],\n",
       "       [27.75510204],\n",
       "       [28.36734694],\n",
       "       [28.97959184],\n",
       "       [29.59183673],\n",
       "       [30.20408163],\n",
       "       [30.81632653],\n",
       "       [31.42857143],\n",
       "       [32.04081633],\n",
       "       [32.65306122],\n",
       "       [33.26530612],\n",
       "       [33.87755102],\n",
       "       [34.48979592],\n",
       "       [35.10204082],\n",
       "       [35.71428571],\n",
       "       [36.32653061],\n",
       "       [36.93877551],\n",
       "       [37.55102041],\n",
       "       [38.16326531],\n",
       "       [38.7755102 ],\n",
       "       [39.3877551 ],\n",
       "       [40.        ]])"
      ]
     },
     "execution_count": 2,
     "metadata": {},
     "output_type": "execute_result"
    }
   ],
   "source": [
    "a=np.linspace(10,40,50)\n",
    "a.reshape(-1,1)"
   ]
  },
  {
   "cell_type": "code",
   "execution_count": 3,
   "metadata": {},
   "outputs": [],
   "source": [
    "y=a*a+np.random.rand(1,50)*300"
   ]
  },
  {
   "cell_type": "code",
   "execution_count": null,
   "metadata": {},
   "outputs": [],
   "source": []
  },
  {
   "cell_type": "code",
   "execution_count": 4,
   "metadata": {},
   "outputs": [
    {
     "data": {
      "text/plain": [
       "[<matplotlib.lines.Line2D at 0x2366af6ed30>]"
      ]
     },
     "execution_count": 4,
     "metadata": {},
     "output_type": "execute_result"
    },
    {
     "data": {
      "image/png": "[encoded data removed]",
      "text/plain": [
       "<Figure size 432x288 with 1 Axes>"
      ]
     },
     "metadata": {
      "needs_background": "light"
     },
     "output_type": "display_data"
    }
   ],
   "source": [
    "plt.plot(a.reshape(-1,1),y.reshape(-1,1),'b*')"
   ]
  },
  {
   "cell_type": "code",
   "execution_count": 5,
   "metadata": {},
   "outputs": [],
   "source": [
    "fea=PolynomialFeatures(degree=2)"
   ]
  },
  {
   "cell_type": "code",
   "execution_count": 6,
   "metadata": {},
   "outputs": [
    {
     "data": {
      "text/plain": [
       "PolynomialFeatures(degree=2, include_bias=True, interaction_only=False,\n",
       "                   order='C')"
      ]
     },
     "execution_count": 6,
     "metadata": {},
     "output_type": "execute_result"
    }
   ],
   "source": [
    "c=fea.fit_transform(a.reshape(-1,1))\n",
    "fea.fit(c,y.reshape(-1,1))"
   ]
  },
  {
   "cell_type": "code",
   "execution_count": 7,
   "metadata": {},
   "outputs": [],
   "source": [
    "model=LinearRegression()"
   ]
  },
  {
   "cell_type": "code",
   "execution_count": 8,
   "metadata": {},
   "outputs": [
    {
     "data": {
      "text/plain": [
       "array([[ 246.57152006],\n",
       "       [ 260.16786732],\n",
       "       [ 274.48379201],\n",
       "       [ 289.51929413],\n",
       "       [ 305.27437369],\n",
       "       [ 321.74903068],\n",
       "       [ 338.9432651 ],\n",
       "       [ 356.85707695],\n",
       "       [ 375.49046624],\n",
       "       [ 394.84343296],\n",
       "       [ 414.91597712],\n",
       "       [ 435.7080987 ],\n",
       "       [ 457.21979773],\n",
       "       [ 479.45107418],\n",
       "       [ 502.40192807],\n",
       "       [ 526.07235939],\n",
       "       [ 550.46236814],\n",
       "       [ 575.57195433],\n",
       "       [ 601.40111795],\n",
       "       [ 627.949859  ],\n",
       "       [ 655.21817748],\n",
       "       [ 683.2060734 ],\n",
       "       [ 711.91354676],\n",
       "       [ 741.34059754],\n",
       "       [ 771.48722576],\n",
       "       [ 802.35343141],\n",
       "       [ 833.93921449],\n",
       "       [ 866.24457501],\n",
       "       [ 899.26951296],\n",
       "       [ 933.01402835],\n",
       "       [ 967.47812116],\n",
       "       [1002.66179141],\n",
       "       [1038.5650391 ],\n",
       "       [1075.18786421],\n",
       "       [1112.53026676],\n",
       "       [1150.59224675],\n",
       "       [1189.37380416],\n",
       "       [1228.87493901],\n",
       "       [1269.09565129],\n",
       "       [1310.03594101],\n",
       "       [1351.69580816],\n",
       "       [1394.07525274],\n",
       "       [1437.17427475],\n",
       "       [1480.9928742 ],\n",
       "       [1525.53105108],\n",
       "       [1570.78880539],\n",
       "       [1616.76613714],\n",
       "       [1663.46304632],\n",
       "       [1710.87953293],\n",
       "       [1759.01559698]])"
      ]
     },
     "execution_count": 8,
     "metadata": {},
     "output_type": "execute_result"
    }
   ],
   "source": [
    "model.fit(c,y.reshape(-1,1))\n",
    "model.predict(fea.fit_transform(a.reshape(-1,1)))"
   ]
  },
  {
   "cell_type": "code",
   "execution_count": 9,
   "metadata": {},
   "outputs": [
    {
     "data": {
      "text/plain": [
       "[<matplotlib.lines.Line2D at 0x2366afa4cc0>]"
      ]
     },
     "execution_count": 9,
     "metadata": {},
     "output_type": "execute_result"
    },
    {
     "data": {
      "image/png": "[encoded data removed]",
      "text/plain": [
       "<Figure size 432x288 with 1 Axes>"
      ]
     },
     "metadata": {
      "needs_background": "light"
     },
     "output_type": "display_data"
    }
   ],
   "source": [
    "plt.plot(a.reshape(-1,1),model.predict(fea.fit_transform(a.reshape(-1,1))),'b',linewidth=2,markersize=1)\n",
    "plt.plot(a.reshape(-1,1),y.reshape(-1,1),'b*')"
   ]
  },
  {
   "cell_type": "code",
   "execution_count": null,
   "metadata": {},
   "outputs": [],
   "source": []
  },
  {
   "cell_type": "code",
   "execution_count": null,
   "metadata": {},
   "outputs": [],
   "source": []
  }
 ],
 "metadata": {
  "kernelspec": {
   "display_name": "Python 3",
   "language": "python",
   "name": "python3"
  },
  "language_info": {
   "codemirror_mode": {
    "name": "ipython",
    "version": 3
   },
   "file_extension": ".py",
   "mimetype": "text/x-python",
   "name": "python",
   "nbconvert_exporter": "python",
   "pygments_lexer": "ipython3",
   "version": "3.7.3"
  }
 },
 "nbformat": 4,
 "nbformat_minor": 2
}
