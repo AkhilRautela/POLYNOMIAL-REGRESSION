{
 "cells": [
  {
   "cell_type": "code",
   "execution_count": 10,
   "metadata": {},
   "outputs": [],
   "source": [
    "import numpy as np\n",
    "import matplotlib.pyplot as plt\n",
    "from sklearn.preprocessing import PolynomialFeatures\n",
    "from sklearn.linear_model import LinearRegression\n"
   ]
  },
  {
   "cell_type": "code",
   "execution_count": 11,
   "metadata": {},
   "outputs": [
    {
     "data": {
      "text/plain": [
       "array([[10.        ],\n",
       "       [10.6122449 ],\n",
       "       [11.2244898 ],\n",
       "       [11.83673469],\n",
       "       [12.44897959],\n",
       "       [13.06122449],\n",
       "       [13.67346939],\n",
       "       [14.28571429],\n",
       "       [14.89795918],\n",
       "       [15.51020408],\n",
       "       [16.12244898],\n",
       "       [16.73469388],\n",
       "       [17.34693878],\n",
       "       [17.95918367],\n",
       "       [18.57142857],\n",
       "       [19.18367347],\n",
       "       [19.79591837],\n",
       "       [20.40816327],\n",
       "       [21.02040816],\n",
       "       [21.63265306],\n",
       "       [22.24489796],\n",
       "       [22.85714286],\n",
       "       [23.46938776],\n",
       "       [24.08163265],\n",
       "       [24.69387755],\n",
       "       [25.30612245],\n",
       "       [25.91836735],\n",
       "       [26.53061224],\n",
       "       [27.14285714],\n",
       "       [27.75510204],\n",
       "       [28.36734694],\n",
       "       [28.97959184],\n",
       "       [29.59183673],\n",
       "       [30.20408163],\n",
       "       [30.81632653],\n",
       "       [31.42857143],\n",
       "       [32.04081633],\n",
       "       [32.65306122],\n",
       "       [33.26530612],\n",
       "       [33.87755102],\n",
       "       [34.48979592],\n",
       "       [35.10204082],\n",
       "       [35.71428571],\n",
       "       [36.32653061],\n",
       "       [36.93877551],\n",
       "       [37.55102041],\n",
       "       [38.16326531],\n",
       "       [38.7755102 ],\n",
       "       [39.3877551 ],\n",
       "       [40.        ]])"
      ]
     },
     "execution_count": 11,
     "metadata": {},
     "output_type": "execute_result"
    }
   ],
   "source": [
    "a=np.linspace(10,40,50)\n",
    "a.reshape(-1,1)"
   ]
  },
  {
   "cell_type": "code",
   "execution_count": 19,
   "metadata": {},
   "outputs": [],
   "source": [
    "y=a*a+np.random.rand(1,50)*300"
   ]
  },
  {
   "cell_type": "code",
   "execution_count": null,
   "metadata": {},
   "outputs": [],
   "source": []
  },
  {
   "cell_type": "code",
   "execution_count": 20,
   "metadata": {},
   "outputs": [
    {
     "data": {
      "text/plain": [
       "[<matplotlib.lines.Line2D at 0x2090182acf8>]"
      ]
     },
     "execution_count": 20,
     "metadata": {},
     "output_type": "execute_result"
    },
    {
     "data": {
      "image/png": "[encoded data removed]",
      "text/plain": [
       "<Figure size 432x288 with 1 Axes>"
      ]
     },
     "metadata": {
      "needs_background": "light"
     },
     "output_type": "display_data"
    }
   ],
   "source": [
    "plt.plot(a.reshape(-1,1),y.reshape(-1,1),'b*')"
   ]
  },
  {
   "cell_type": "code",
   "execution_count": 21,
   "metadata": {},
   "outputs": [],
   "source": [
    "fea=PolynomialFeatures(degree=10)"
   ]
  },
  {
   "cell_type": "code",
   "execution_count": 22,
   "metadata": {},
   "outputs": [
    {
     "data": {
      "text/plain": [
       "PolynomialFeatures(degree=2, include_bias=True, interaction_only=False,\n",
       "                   order='C')"
      ]
     },
     "execution_count": 22,
     "metadata": {},
     "output_type": "execute_result"
    }
   ],
   "source": [
    "c=fea.fit_transform(a.reshape(-1,1))\n",
    "fea.fit(c,y.reshape(-1,1))"
   ]
  },
  {
   "cell_type": "code",
   "execution_count": 23,
   "metadata": {},
   "outputs": [],
   "source": [
    "model=LinearRegression()"
   ]
  },
  {
   "cell_type": "code",
   "execution_count": 24,
   "metadata": {},
   "outputs": [
    {
     "data": {
      "text/plain": [
       "array([[ 212.73072577],\n",
       "       [ 244.50517343],\n",
       "       [ 273.29381614],\n",
       "       [ 298.97507479],\n",
       "       [ 321.63531348],\n",
       "       [ 341.54780634],\n",
       "       [ 359.14255477],\n",
       "       [ 374.96938467],\n",
       "       [ 389.65684781],\n",
       "       [ 403.86943735],\n",
       "       [ 418.26551782],\n",
       "       [ 433.45817561],\n",
       "       [ 449.98093142],\n",
       "       [ 468.25993112],\n",
       "       [ 488.59386056],\n",
       "       [ 511.14242397],\n",
       "       [ 535.92379746],\n",
       "       [ 562.82103118],\n",
       "       [ 591.59693807],\n",
       "       [ 621.91658598],\n",
       "       [ 653.37611611],\n",
       "       [ 685.5362558 ],\n",
       "       [ 717.95859054],\n",
       "       [ 750.24242075],\n",
       "       [ 782.05986581],\n",
       "       [ 813.186803  ],\n",
       "       [ 843.52725522],\n",
       "       [ 873.12898067],\n",
       "       [ 902.18828206],\n",
       "       [ 931.04245537],\n",
       "       [ 960.14885046],\n",
       "       [ 990.05023041],\n",
       "       [1021.3270057 ],\n",
       "       [1054.53799541],\n",
       "       [1090.15264311],\n",
       "       [1128.4791017 ],\n",
       "       [1169.59431247],\n",
       "       [1213.28415019],\n",
       "       [1259.0039014 ],\n",
       "       [1305.87179901],\n",
       "       [1352.71106533],\n",
       "       [1398.15893004],\n",
       "       [1440.86440152],\n",
       "       [1479.80019184],\n",
       "       [1514.71814033],\n",
       "       [1546.78175862],\n",
       "       [1579.41414647],\n",
       "       [1619.40451201],\n",
       "       [1678.3218861 ],\n",
       "       [1774.29036123]])"
      ]
     },
     "execution_count": 24,
     "metadata": {},
     "output_type": "execute_result"
    }
   ],
   "source": [
    "model.fit(c,y.reshape(-1,1))\n",
    "model.predict(fea.fit_transform(a.reshape(-1,1)))"
   ]
  },
  {
   "cell_type": "code",
   "execution_count": 25,
   "metadata": {},
   "outputs": [
    {
     "data": {
      "text/plain": [
       "[<matplotlib.lines.Line2D at 0x20901841a58>]"
      ]
     },
     "execution_count": 25,
     "metadata": {},
     "output_type": "execute_result"
    },
    {
     "data": {
      "image/png": "[encoded data removed]",
      "text/plain": [
       "<Figure size 432x288 with 1 Axes>"
      ]
     },
     "metadata": {
      "needs_background": "light"
     },
     "output_type": "display_data"
    }
   ],
   "source": [
    "plt.plot(a.reshape(-1,1),model.predict(fea.fit_transform(a.reshape(-1,1))),'b',linewidth=2,markersize=1)\n",
    "plt.plot(a.reshape(-1,1),y.reshape(-1,1),'b*')"
   ]
  },
  {
   "cell_type": "code",
   "execution_count": null,
   "metadata": {},
   "outputs": [],
   "source": []
  },
  {
   "cell_type": "code",
   "execution_count": null,
   "metadata": {},
   "outputs": [],
   "source": []
  }
 ],
 "metadata": {
  "kernelspec": {
   "display_name": "Python 3",
   "language": "python",
   "name": "python3"
  },
  "language_info": {
   "codemirror_mode": {
    "name": "ipython",
    "version": 3
   },
   "file_extension": ".py",
   "mimetype": "text/x-python",
   "name": "python",
   "nbconvert_exporter": "python",
   "pygments_lexer": "ipython3",
   "version": "3.7.3"
  }
 },
 "nbformat": 4,
 "nbformat_minor": 2
}
